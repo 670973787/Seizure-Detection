{
 "cells": [
  {
   "cell_type": "code",
   "execution_count": 1,
   "metadata": {},
   "outputs": [],
   "source": [
    "import tarfile\n",
    "import numpy as np \n",
    "import os\n",
    "import scipy.io as sio\n",
    "#import rarfile\n",
    "#import torch\n",
    "import matplotlib.pyplot as plt\n",
    "from hmmlearn import hmm"
   ]
  },
  {
   "cell_type": "code",
   "execution_count": 2,
   "metadata": {},
   "outputs": [],
   "source": [
    "import random\n",
    "random.seed(0)\n",
    "test_idx = random.sample(range(1,101), 20)\n",
    "idx = list(set(range(1,101)) - set(test_idx))\n",
    "train_idx = random.sample(idx, 70)\n",
    "val_idx = list(set(idx) - set(train_idx))"
   ]
  },
  {
   "cell_type": "code",
   "execution_count": 4,
   "metadata": {},
   "outputs": [
    {
     "data": {
      "text/plain": [
       "'/home/jupyter/eeg'"
      ]
     },
     "execution_count": 4,
     "metadata": {},
     "output_type": "execute_result"
    }
   ],
   "source": [
    "pwd"
   ]
  },
  {
   "cell_type": "code",
   "execution_count": 15,
   "metadata": {},
   "outputs": [
    {
     "data": {
      "text/plain": [
       "array([-42., -39., -35., ..., -37., -40., -64.])"
      ]
     },
     "execution_count": 15,
     "metadata": {},
     "output_type": "execute_result"
    }
   ],
   "source": [
    "np.loadtxt('N001.TXT')"
   ]
  },
  {
   "cell_type": "code",
   "execution_count": 18,
   "metadata": {},
   "outputs": [
    {
     "data": {
      "text/plain": [
       "573580"
      ]
     },
     "execution_count": 18,
     "metadata": {},
     "output_type": "execute_result"
    }
   ],
   "source": [
    "len(dat_health)"
   ]
  },
  {
   "cell_type": "code",
   "execution_count": 16,
   "metadata": {},
   "outputs": [],
   "source": [
    "dat_health = np.zeros([4097*140, 1])\n",
    "for i in range(70):\n",
    "    t = str(train_idx[i]).zfill(3)\n",
    "    a = np.loadtxt('Z/Z'+t+'.txt')  #healthy\n",
    "    a = np.expand_dims(a,1)\n",
    "    dat_health[(i)*4097 : (i+1)*4097,:]=a\n",
    "    \n",
    "for i in range(70):\n",
    "    t = str(train_idx[i]).zfill(3)\n",
    "    a = np.loadtxt('O/O'+t+'.txt')  #healthy\n",
    "    a = np.expand_dims(a,1)\n",
    "    dat_health[(i+70)*4097 : (i+71)*4097,:]=a\n",
    "    \n",
    "dat_inter = np.zeros([4097*140, 1])\n",
    "for i in range(70):\n",
    "    t = str(train_idx[i]).zfill(3)\n",
    "    #a = np.loadtxt('C:/Users/gong/Documents/learning/TSA/project/Data/F_Interictal/c_F'+t+'.txt')\n",
    "    a = np.loadtxt('F/F'+t+'.txt')\n",
    "    a = np.expand_dims(a,1)\n",
    "    dat_inter[(i)*4097 : (i+1)*4097,:]=a\n",
    "for i in range(70):\n",
    "    t = str(train_idx[i]).zfill(3)\n",
    "    #a = np.loadtxt('C:/Users/gong/Documents/learning/TSA/project/Data/N_Interictal/c_N'+t+'.txt')\n",
    "    a = np.loadtxt('N/N'+t+'.TXT')\n",
    "    a = np.expand_dims(a,1)\n",
    "    dat_inter[(i+70)*4097 : (i+71)*4097,:]=a\n",
    "    \n",
    "dat_ict = np.zeros([4097*70, 1])\n",
    "for i in range(70):\n",
    "    t = str(train_idx[i]).zfill(3)\n",
    "    #a = np.loadtxt('C:/Users/gong/Documents/learning/TSA/project/Data/S_Ictal/c_S'+t+'.txt')\n",
    "    a = np.loadtxt('S/S'+t+'.txt')\n",
    "    a = np.expand_dims(a,1)\n",
    "    dat_ict[(i)*4097 : (i+1)*4097,:]=a"
   ]
  },
  {
   "cell_type": "code",
   "execution_count": null,
   "metadata": {
    "collapsed": true
   },
   "outputs": [],
   "source": [
    "# 3: 0.7\n",
    "# 4: 0.76\n",
    "# 5: 0.72\n",
    "# 6: 0.7"
   ]
  },
  {
   "cell_type": "code",
   "execution_count": 19,
   "metadata": {},
   "outputs": [
    {
     "data": {
      "text/plain": [
       "GaussianHMM(algorithm='viterbi', covariance_type='diag', covars_prior=0.01,\n",
       "      covars_weight=1, init_params='stmc', means_prior=0, means_weight=0,\n",
       "      min_covar=0.001, n_components=4, n_iter=2000, params='stmc',\n",
       "      random_state=None, startprob_prior=1.0, tol=0.01, transmat_prior=1.0,\n",
       "      verbose=False)"
      ]
     },
     "execution_count": 19,
     "metadata": {},
     "output_type": "execute_result"
    }
   ],
   "source": [
    "remodel_health = hmm.GaussianHMM(n_components=4, covariance_type=\"diag\", n_iter=2000)\n",
    "remodel_health.fit(dat_health, [4097]*140) \n",
    "remodel_inter = hmm.GaussianHMM(n_components=4, covariance_type=\"diag\", n_iter=2000)\n",
    "remodel_inter.fit(dat_inter, [4097]*140) \n",
    "remodel_ict = hmm.GaussianHMM(n_components=4, covariance_type=\"diag\", n_iter=2000)\n",
    "remodel_ict.fit(dat_ict, [4097]*70) "
   ]
  },
  {
   "cell_type": "code",
   "execution_count": 22,
   "metadata": {
    "collapsed": true
   },
   "outputs": [],
   "source": [
    "right_num = 0\n",
    "right_sum_healthy = 0\n",
    "right_sum_Interictal = 0\n",
    "right_sum_Ictal = 0\n",
    "for i in range(10):\n",
    "    t = str(val_idx[i]).zfill(3)\n",
    "    a = np.loadtxt('Z/Z'+t+'.txt')\n",
    "    a = np.expand_dims(a,1)\n",
    "    score = [remodel_health.score(a), remodel_inter.score(a), remodel_ict.score(a)]\n",
    "    if(np.argmax(score)==0):\n",
    "        right_num+=1\n",
    "        right_sum_healthy!=1\n",
    "for i in range(10):    \n",
    "    t = str(val_idx[i]).zfill(3)\n",
    "    a = np.loadtxt('O/O'+t+'.txt')\n",
    "    a = np.expand_dims(a,1)\n",
    "    score = [remodel_health.score(a), remodel_inter.score(a), remodel_ict.score(a)]\n",
    "    if(np.argmax(score)==0):\n",
    "        right_num+=1\n",
    "        right_sum_healthy+=1\n",
    "for i in range(10):\n",
    "    t = str(val_idx[i]).zfill(3)\n",
    "    a = np.loadtxt('F/F'+t+'.txt')\n",
    "    a = np.expand_dims(a,1)\n",
    "    score = [remodel_health.score(a), remodel_inter.score(a), remodel_ict.score(a)]\n",
    "    if(np.argmax(score)==1):\n",
    "        right_num+=1\n",
    "        right_sum_Interictal+=1\n",
    "for i in range(10):\n",
    "    t = str(val_idx[i]).zfill(3)\n",
    "    a = np.loadtxt('N/N'+t+'.TXT')\n",
    "    a = np.expand_dims(a,1)\n",
    "    score = [remodel_health.score(a), remodel_inter.score(a), remodel_ict.score(a)]\n",
    "    if(np.argmax(score)==1):\n",
    "        right_num+=1\n",
    "        right_sum_Interictal+=1\n",
    "for i in range(10):\n",
    "    t = str(val_idx[i]).zfill(3)\n",
    "    a = np.loadtxt('S/S'+t+'.txt')\n",
    "    a = np.expand_dims(a,1)\n",
    "    score = [remodel_health.score(a), remodel_inter.score(a), remodel_ict.score(a)]\n",
    "    if(np.argmax(score)==2):\n",
    "        right_num+=1\n",
    "        right_sum_Ictal+=1"
   ]
  },
  {
   "cell_type": "code",
   "execution_count": 23,
   "metadata": {},
   "outputs": [
    {
     "name": "stdout",
     "output_type": "stream",
     "text": [
      "accuracy: 0.66\n",
      "accuracy_healthy: 0.45\n",
      "accuracy_interictal: 0.5\n",
      "accuracy_ictal: 0.7\n"
     ]
    }
   ],
   "source": [
    "print('accuracy: ' + str(right_num/50))\n",
    "print('accuracy_healthy: ' + str(right_sum_healthy/20))\n",
    "print('accuracy_interictal: ' + str(right_sum_Interictal/20))\n",
    "print('accuracy_ictal: ' + str(right_sum_Ictal/10))"
   ]
  },
  {
   "cell_type": "code",
   "execution_count": 169,
   "metadata": {
    "collapsed": true
   },
   "outputs": [],
   "source": [
    "right_num = 0\n",
    "for i in range(20):\n",
    "    t = str(test_idx[i]).zfill(3)\n",
    "    a = np.loadtxt('C:/Users/gong/Documents/learning/TSA/project/Data/Z_Healthy/c_Z'+t+'.txt')\n",
    "    a = np.expand_dims(a,1)\n",
    "    score = [remodel_z.score(a), remodel_o.score(a), remodel_f.score(a),remodel_n.score(a), remodel_s.score(a)]\n",
    "    if(np.argmax(score)==0 or np.argmax(score)==1):\n",
    "        right_num+=1\n",
    "for i in range(20):    \n",
    "    t = str(test_idx[i]).zfill(3)\n",
    "    a = np.loadtxt('C:/Users/gong/Documents/learning/TSA/project/Data/O_Healthy/c_O'+t+'.txt')\n",
    "    a = np.expand_dims(a,1)\n",
    "    score = [remodel_z.score(a), remodel_o.score(a), remodel_f.score(a),remodel_n.score(a), remodel_s.score(a)]\n",
    "    if(np.argmax(score)==0 or np.argmax(score)==1):\n",
    "        right_num+=1\n",
    "for i in range(20):\n",
    "    t = str(test_idx[i]).zfill(3)\n",
    "    a = np.loadtxt('C:/Users/gong/Documents/learning/TSA/project/Data/F_Interictal/c_F'+t+'.txt')\n",
    "    a = np.expand_dims(a,1)\n",
    "    score = [remodel_z.score(a), remodel_o.score(a), remodel_f.score(a),remodel_n.score(a), remodel_s.score(a)]\n",
    "    if(np.argmax(score)==2 or np.argmax(score)==3):\n",
    "        right_num+=1\n",
    "for i in range(20):\n",
    "    t = str(test_idx[i]).zfill(3)\n",
    "    a = np.loadtxt('C:/Users/gong/Documents/learning/TSA/project/Data/N_Interictal/c_N'+t+'.txt')\n",
    "    a = np.expand_dims(a,1)\n",
    "    score = [remodel_z.score(a), remodel_o.score(a), remodel_f.score(a),remodel_n.score(a), remodel_s.score(a)]\n",
    "    if(np.argmax(score)==2 or np.argmax(score)==3):\n",
    "        right_num+=1\n",
    "for i in range(20):\n",
    "    t = str(test_idx[i]).zfill(3)\n",
    "    a = np.loadtxt('C:/Users/gong/Documents/learning/TSA/project/Data/S_Ictal/c_S'+t+'.txt')\n",
    "    a = np.expand_dims(a,1)\n",
    "    score = [remodel_z.score(a), remodel_o.score(a), remodel_f.score(a),remodel_n.score(a), remodel_s.score(a)]\n",
    "    if(np.argmax(score)==4):\n",
    "        right_num+=1"
   ]
  },
  {
   "cell_type": "code",
   "execution_count": null,
   "metadata": {
    "collapsed": true
   },
   "outputs": [],
   "source": [
    "print(right_num/100)"
   ]
  },
  {
   "cell_type": "markdown",
   "metadata": {},
   "source": [
    "## Cross Validation"
   ]
  },
  {
   "cell_type": "code",
   "execution_count": 73,
   "metadata": {
    "collapsed": true
   },
   "outputs": [],
   "source": [
    "def get_train_data(n_samples,idx):\n",
    "    dat_health = np.zeros([4097*2*n_samples, 1])\n",
    "    for i in range(n_samples):\n",
    "        t = str(idx[i]).zfill(3)\n",
    "        a = np.loadtxt('Z/Z'+t+'.txt')  #healthy\n",
    "        a = np.expand_dims(a,1)\n",
    "        dat_health[(i)*4097 : (i+1)*4097,:]=a\n",
    "\n",
    "    for i in range(n_samples):\n",
    "        t = str(idx[i]).zfill(3)\n",
    "        a = np.loadtxt('O/O'+t+'.txt')  #healthy\n",
    "        a = np.expand_dims(a,1)\n",
    "        dat_health[(i+n_samples)*4097 : (i+n_samples+1)*4097,:]=a\n",
    "\n",
    "\n",
    "\n",
    "    dat_inter = np.zeros([4097*n_samples*2, 1])\n",
    "    for i in range(n_samples):\n",
    "        t = str(idx[i]).zfill(3)\n",
    "        #a = np.loadtxt('C:/Users/gong/Documents/learning/TSA/project/Data/F_Interictal/c_F'+t+'.txt')\n",
    "        a = np.loadtxt('F/F'+t+'.txt')\n",
    "        a = np.expand_dims(a,1)\n",
    "        dat_inter[(i)*4097 : (i+1)*4097,:]=a\n",
    "    for i in range(n_samples):\n",
    "        t = str(idx[i]).zfill(3)\n",
    "        #a = np.loadtxt('C:/Users/gong/Documents/learning/TSA/project/Data/N_Interictal/c_N'+t+'.txt')\n",
    "        a = np.loadtxt('N/N'+t+'.TXT')\n",
    "        a = np.expand_dims(a,1)\n",
    "        dat_inter[(i+n_samples)*4097 : (i+n_samples+1)*4097,:]=a\n",
    "\n",
    "\n",
    "\n",
    "    dat_ict = np.zeros([4097*n_samples, 1])\n",
    "    for i in range(n_samples):\n",
    "        t = str(idx[i]).zfill(3)\n",
    "        #a = np.loadtxt('C:/Users/gong/Documents/learning/TSA/project/Data/S_Ictal/c_S'+t+'.txt')\n",
    "        a = np.loadtxt('S/S'+t+'.txt')\n",
    "        a = np.expand_dims(a,1)\n",
    "        dat_ict[(i)*4097 : (i+1)*4097,:]=a\n",
    "    \n",
    "    return dat_health,dat_inter,dat_ict\n",
    "\n",
    "\n",
    "def build_model(n_sample,dat_health,dat_inter,dat_ict,n_components=4,covariance_type='diag',n_iter=2000):\n",
    "    remodel_health = hmm.GaussianHMM(n_components=n_components, covariance_type=covariance_type, n_iter=n_iter)\n",
    "    remodel_health.fit(dat_health, [4097]*2*n_sample) \n",
    "    remodel_inter = hmm.GaussianHMM(n_components=n_components, covariance_type=covariance_type, n_iter=n_iter)\n",
    "    remodel_inter.fit(dat_inter, [4097]*2*n_sample) \n",
    "    remodel_ict = hmm.GaussianHMM(n_components=n_components, covariance_type=covariance_type, n_iter=n_iter)\n",
    "    remodel_ict.fit(dat_ict, [4097]*n_sample) \n",
    "    return remodel_health,remodel_inter,remodel_ict\n",
    "    \n",
    "def accuracy_score(n_sample,idx,remodel_health,remodel_inter,remodel_ict):\n",
    "    right_num = 0\n",
    "    right_sum_healthy = 0\n",
    "    right_sum_Interictal = 0\n",
    "    right_sum_Ictal = 0\n",
    "    for i in range(n_sample):\n",
    "        t = str(idx[i]).zfill(3)\n",
    "        a = np.loadtxt('Z/Z'+t+'.txt')\n",
    "        a = np.expand_dims(a,1)\n",
    "        score = [remodel_health.score(a), remodel_inter.score(a), remodel_ict.score(a)]\n",
    "        if(np.argmax(score)==0):\n",
    "            right_num+=1\n",
    "            right_sum_healthy!=1\n",
    "    for i in range(n_sample):    \n",
    "        t = str(idx[i]).zfill(3)\n",
    "        a = np.loadtxt('O/O'+t+'.txt')\n",
    "        a = np.expand_dims(a,1)\n",
    "        score = [remodel_health.score(a), remodel_inter.score(a), remodel_ict.score(a)]\n",
    "        if(np.argmax(score)==0):\n",
    "            right_num+=1\n",
    "            right_sum_healthy+=1\n",
    "    for i in range(n_sample):\n",
    "        t = str(idx[i]).zfill(3)\n",
    "        a = np.loadtxt('F/F'+t+'.txt')\n",
    "        a = np.expand_dims(a,1)\n",
    "        score = [remodel_health.score(a), remodel_inter.score(a), remodel_ict.score(a)]\n",
    "        if(np.argmax(score)==1):\n",
    "            right_num+=1\n",
    "            right_sum_Interictal+=1\n",
    "    for i in range(n_sample):\n",
    "        t = str(idx[i]).zfill(3)\n",
    "        a = np.loadtxt('N/N'+t+'.TXT')\n",
    "        a = np.expand_dims(a,1)\n",
    "        score = [remodel_health.score(a), remodel_inter.score(a), remodel_ict.score(a)]\n",
    "        if(np.argmax(score)==1):\n",
    "            right_num+=1\n",
    "            right_sum_Interictal+=1\n",
    "    for i in range(n_sample):\n",
    "        t = str(idx[i]).zfill(3)\n",
    "        a = np.loadtxt('S/S'+t+'.txt')\n",
    "        a = np.expand_dims(a,1)\n",
    "        score = [remodel_health.score(a), remodel_inter.score(a), remodel_ict.score(a)]\n",
    "        if(np.argmax(score)==2):\n",
    "            right_num+=1\n",
    "            right_sum_Ictal+=1\n",
    "    return right_num/(n_sample*5),right_sum_healthy/(n_sample*2),right_sum_Interictal/(n_sample*2),right_sum_Ictal/n_sample"
   ]
  },
  {
   "cell_type": "code",
   "execution_count": 35,
   "metadata": {
    "collapsed": true
   },
   "outputs": [],
   "source": [
    "dat_health,dat_inter,dat_ict = get_train_data(n_samples=80,idx=idx)"
   ]
  },
  {
   "cell_type": "code",
   "execution_count": null,
   "metadata": {},
   "outputs": [
    {
     "name": "stdout",
     "output_type": "stream",
     "text": [
      "0.6625\n",
      "0.375\n"
     ]
    }
   ],
   "source": [
    "from sklearn.model_selection import KFold\n",
    "kf = KFold(n_splits=5,shuffle=True)\n",
    "\n",
    "for train_index, val_index in kf.split(idx):\n",
    "    train_index = np.array(idx)[train_index]\n",
    "    val_index = np.array(idx)[val_index]\n",
    "    dat_health,dat_inter,dat_ict = get_train_data(n_samples=len(train_index),idx=train_index)\n",
    "    remodel_health,remodel_inter,remodel_ict = build_model(n_sample=len(train_index),dat_health=dat_health,dat_inter=dat_inter,dat_ict=dat_ict)\n",
    "    acc,acc_healthy,acc_inter,acc_ict = accuracy_score(n_sample=len(val_index),idx=val_index,remodel_health=remodel_health,remodel_inter=remodel_inter,remodel_ict=remodel_ict)\n",
    "    print(acc)\n",
    "    print(acc_healthy)"
   ]
  },
  {
   "cell_type": "code",
   "execution_count": null,
   "metadata": {
    "collapsed": true
   },
   "outputs": [],
   "source": []
  }
 ],
 "metadata": {
  "kernelspec": {
   "display_name": "Python 3",
   "language": "python",
   "name": "python3"
  },
  "language_info": {
   "codemirror_mode": {
    "name": "ipython",
    "version": 3
   },
   "file_extension": ".py",
   "mimetype": "text/x-python",
   "name": "python",
   "nbconvert_exporter": "python",
   "pygments_lexer": "ipython3",
   "version": "3.6.3"
  }
 },
 "nbformat": 4,
 "nbformat_minor": 2
}
